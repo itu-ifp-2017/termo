{
 "cells": [
  {
   "cell_type": "code",
   "execution_count": 2,
   "metadata": {
    "collapsed": false
   },
   "outputs": [],
   "source": [
    "import pandas as pd\n",
    "from numpy.random import randint\n",
    "%matplotlib inline\n",
    "from collections import Counter"
   ]
  },
  {
   "cell_type": "code",
   "execution_count": 4,
   "metadata": {
    "collapsed": false
   },
   "outputs": [
    {
     "name": "stdout",
     "output_type": "stream",
     "text": [
      "[6, 5, 3, 3, 4, 4, 5, 7, 2, 4, 4, 4, 4, 4, 3, 5, 5, 4, 7, 3, 3, 6, 8, 5, 6, 6, 7, 7, 8, 6, 7, 5, 4, 2, 5, 2, 6, 6, 5, 8, 7, 4, 4, 6, 3, 3, 5, 8, 6, 5, 3, 6, 4, 3, 2, 5, 8, 6, 4, 3, 4, 2, 4, 7, 7, 7, 5, 4, 5, 5, 7, 5, 4, 6, 5, 5, 2, 4, 4, 6, 3, 4, 5, 3, 5, 5, 7, 3, 3, 7, 5, 5, 5, 4, 5, 3, 4, 4, 5, 5, 7, 5, 6, 5, 8, 7, 5, 4, 5, 6, 4, 2, 3, 2, 8, 8, 4, 6, 4, 7, 4, 7, 6, 4, 3, 5, 6, 5, 5, 4, 4, 9, 5, 3, 6, 4, 7, 7, 5, 2]\n"
     ]
    },
    {
     "data": {
      "text/plain": [
       "0      0\n",
       "1      0\n",
       "2      9\n",
       "3     18\n",
       "4     32\n",
       "5     35\n",
       "6     19\n",
       "7     18\n",
       "8      8\n",
       "9      1\n",
       "10     0\n",
       "dtype: int64"
      ]
     },
     "execution_count": 4,
     "metadata": {},
     "output_type": "execute_result"
    }
   ],
   "source": [
    "flips = []\n",
    "for i in range(0,140):\n",
    "    flips.append( randint(2, size=10).sum() )\n",
    "    \n",
    "print flips\n",
    "\n",
    "numtails = pd.Series(flips)\n",
    "hdata = pd.Series(Counter(numtails)).reindex(range(0,11)).fillna(0).astype(int)\n",
    "hdata"
   ]
  },
  {
   "cell_type": "code",
   "execution_count": 5,
   "metadata": {
    "collapsed": false
   },
   "outputs": [
    {
     "data": {
      "text/plain": [
       "<matplotlib.axes._subplots.AxesSubplot at 0x11288b4d0>"
      ]
     },
     "execution_count": 5,
     "metadata": {},
     "output_type": "execute_result"
    },
    {
     "data": {
      "image/png": "[encoded data removed]",
      "text/plain": [
       "<matplotlib.figure.Figure at 0x104072250>"
      ]
     },
     "metadata": {},
     "output_type": "display_data"
    }
   ],
   "source": [
    "hdata.plot(kind='bar')"
   ]
  },
  {
   "cell_type": "code",
   "execution_count": null,
   "metadata": {
    "collapsed": true
   },
   "outputs": [],
   "source": []
  }
 ],
 "metadata": {
  "anaconda-cloud": {},
  "kernelspec": {
   "display_name": "Python [default]",
   "language": "python",
   "name": "python2"
  },
  "language_info": {
   "codemirror_mode": {
    "name": "ipython",
    "version": 2
   },
   "file_extension": ".py",
   "mimetype": "text/x-python",
   "name": "python",
   "nbconvert_exporter": "python",
   "pygments_lexer": "ipython2",
   "version": "2.7.12"
  }
 },
 "nbformat": 4,
 "nbformat_minor": 1
}
